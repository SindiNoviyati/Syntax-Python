{
  "cells": [
    {
      "cell_type": "markdown",
      "id": "39bf7b14",
      "metadata": {
        "id": "39bf7b14"
      },
      "source": [
        "## Buatlah sebuah program yang:\n",
        "\n",
        "   1. Meminta input dari pengguna:\n",
        "\n",
        "       - Nama mahasiswa\n",
        "\n",
        "       - NIM mahasiswa\n",
        "\n",
        "       - Nilai ujian (dalam angka, 0–100)\n",
        "\n",
        "   2. Cek dan tampilkan tipe data dari setiap input.\n",
        "\n",
        "   3. Gunakan if-elif-else untuk menentukan kategori nilai, dengan kriteria sebagai berikut:\n",
        "   \n",
        "```\n",
        "Nilai | Kategori\n",
        "85 - 100 | A (Sangat Baik)\n",
        "75 - 84 | B (Baik)\n",
        "60 - 74 | C (Cukup)\n",
        "40 - 59 | D (Kurang)\n",
        "< 40 | E (Sangat Kurang)\n",
        "```\n",
        "\n",
        "```\n",
        "==== Ekspektasi Output Jawaban : =====\n",
        "Masukkan nama mahasiswa: Sarah\n",
        "Masukkan NIM: 12345678\n",
        "Masukkan nilai ujian (0-100): 81\n",
        "\n",
        "Nama: Sarah (type: <class 'str'>)\n",
        "NIM: 12345678 (type: <class 'str'>)\n",
        "Nilai: 81 (type: <class 'int'>)\n",
        "\n",
        "Hasil Evaluasi:\n",
        "Mahasiswa: Sarah (NIM: 12345678)\n",
        "Nilai Ujian: 81\n",
        "Kategori Nilai: B (Baik)\n",
        "```"
      ]
    },
    {
      "cell_type": "code",
      "execution_count": null,
      "id": "e2ab644c",
      "metadata": {
        "id": "e2ab644c",
        "colab": {
          "base_uri": "https://localhost:8080/"
        },
        "outputId": "80f5b937-a60c-4a54-c489-5b04ecbd29ea"
      },
      "outputs": [
        {
          "output_type": "stream",
          "name": "stdout",
          "text": [
            "Nama: Sindi\n",
            "NIM: 6331169304\n",
            "Nilai: 85.5\n"
          ]
        }
      ],
      "source": [
        "# running data secara manual, dengan proses assigning input - output\n",
        "Nama= 'Nama: Sindi'\n",
        "NIM= 'NIM: 6331169304'\n",
        "Nilai= 'Nilai: 85.5'\n",
        "\n",
        "print(Nama)\n",
        "print(NIM)\n",
        "print(Nilai)"
      ]
    },
    {
      "cell_type": "markdown",
      "source": [
        "Conclution:\n",
        "\n",
        "1. Hasil proses sudah sesuai dan benar dengan input output\n",
        "2. Dari data tersebut terbaca dengan hasil nama, NIM, dan nilai mahasiswa"
      ],
      "metadata": {
        "id": "DU5cdIycIoY-"
      },
      "id": "DU5cdIycIoY-"
    },
    {
      "cell_type": "code",
      "source": [
        "# Pengklasifikasikan type data, categorical atau numerical\n",
        "# String type ditandai dengan simbol petik (quotes) kemudian berisi alfabet\n",
        "# Double quotes are the same as single quotes\n",
        "Nama= 'Sindi'\n",
        "NIM= 6331169304\n",
        "Nilai= 85.5\n",
        "\n",
        "print(type(Nama))\n",
        "print(type(NIM))\n",
        "print(type(Nilai))"
      ],
      "metadata": {
        "colab": {
          "base_uri": "https://localhost:8080/"
        },
        "id": "nwj56xsDfY0x",
        "outputId": "cfc95465-e99a-4031-cd9a-7a93b55ad516"
      },
      "id": "nwj56xsDfY0x",
      "execution_count": null,
      "outputs": [
        {
          "output_type": "stream",
          "name": "stdout",
          "text": [
            "<class 'str'>\n",
            "<class 'int'>\n",
            "<class 'float'>\n"
          ]
        }
      ]
    },
    {
      "cell_type": "markdown",
      "source": [
        "Conclution:\n",
        "\n",
        "1. Dengan rumus dtype maka akan muncul type data\n",
        "2. Variabel Nama adalah type data String, variabel, NIM adalah type data Intejer, Variabel Nilai adalah type data Float"
      ],
      "metadata": {
        "id": "toXW3844J1jz"
      },
      "id": "toXW3844J1jz"
    },
    {
      "cell_type": "code",
      "source": [
        "# Note! Varibel diawali dengan alphabet\n",
        "x= 'Hasil Evaluasi:'\n",
        "y= 'Sindi (6331169304)'\n",
        "z= 85.5\n",
        "w= 85\n",
        "\n",
        "print(x)\n",
        "print(y)\n",
        "print(z)\n",
        "\n",
        "# Penggunaan Comparison Operators lebih besar dari >, sama dengan ==\n",
        "# Penggunaan If Statement\n",
        "if z>w:\n",
        "  print('Kategori nilai A: Sangat Baik')\n",
        "elif w==z:\n",
        "  print('Remedial')"
      ],
      "metadata": {
        "colab": {
          "base_uri": "https://localhost:8080/"
        },
        "id": "6XLFI83GgOwY",
        "outputId": "717b79c2-60f0-4f39-88f7-ae55800d29a3"
      },
      "id": "6XLFI83GgOwY",
      "execution_count": null,
      "outputs": [
        {
          "output_type": "stream",
          "name": "stdout",
          "text": [
            "Hasil Evaluasi:\n",
            "Sindi (6331169304)\n",
            "85.5\n",
            "Kategori nilai A: Sangat Baik\n"
          ]
        }
      ]
    },
    {
      "cell_type": "markdown",
      "source": [
        "Conclution:\n",
        "\n",
        "1. Kombinasi input - output dan if statement yang benar akan automatic memberikan hasil proses\n",
        "\n",
        "2. Dengan rumus tersebut dapat diambil kesimpulan bahwa atas nama Sindi mendapatkan nilai dengan kategori sangat baik"
      ],
      "metadata": {
        "id": "PLovAr7tLDBH"
      },
      "id": "PLovAr7tLDBH"
    }
  ],
  "metadata": {
    "kernelspec": {
      "display_name": "Python 3 (ipykernel)",
      "language": "python",
      "name": "python3"
    },
    "language_info": {
      "codemirror_mode": {
        "name": "ipython",
        "version": 3
      },
      "file_extension": ".py",
      "mimetype": "text/x-python",
      "name": "python",
      "nbconvert_exporter": "python",
      "pygments_lexer": "ipython3",
      "version": "3.11.4"
    },
    "colab": {
      "provenance": []
    }
  },
  "nbformat": 4,
  "nbformat_minor": 5
}